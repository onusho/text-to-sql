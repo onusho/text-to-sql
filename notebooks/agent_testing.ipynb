{
 "cells": [
  {
   "cell_type": "markdown",
   "metadata": {},
   "source": [
    "# Functions"
   ]
  },
  {
   "cell_type": "code",
   "execution_count": 7,
   "metadata": {},
   "outputs": [
    {
     "ename": "ModuleNotFoundError",
     "evalue": "No module named 'generator'",
     "output_type": "error",
     "traceback": [
      "\u001b[1;31m---------------------------------------------------------------------------\u001b[0m",
      "\u001b[1;31mModuleNotFoundError\u001b[0m                       Traceback (most recent call last)",
      "Cell \u001b[1;32mIn[7], line 1\u001b[0m\n\u001b[1;32m----> 1\u001b[0m \u001b[38;5;28;01mfrom\u001b[39;00m\u001b[38;5;250m \u001b[39m\u001b[38;5;21;01mgenerator\u001b[39;00m\u001b[38;5;250m \u001b[39m\u001b[38;5;28;01mimport\u001b[39;00m \u001b[38;5;241m*\u001b[39m\n",
      "\u001b[1;31mModuleNotFoundError\u001b[0m: No module named 'generator'"
     ]
    }
   ],
   "source": [
    "from generator import *\n"
   ]
  },
  {
   "cell_type": "markdown",
   "metadata": {},
   "source": [
    "# Test"
   ]
  },
  {
   "cell_type": "code",
   "execution_count": null,
   "metadata": {},
   "outputs": [],
   "source": [
    "client = get_client()\n",
    "connection = connect_to_db(connection_parameters)"
   ]
  },
  {
   "cell_type": "code",
   "execution_count": null,
   "metadata": {},
   "outputs": [],
   "source": [
    "question = \"Show all rentals made in the last 7 days\""
   ]
  },
  {
   "cell_type": "markdown",
   "metadata": {},
   "source": [
    "## Giving Metadata"
   ]
  },
  {
   "cell_type": "code",
   "execution_count": null,
   "metadata": {},
   "outputs": [
    {
     "data": {
      "text/plain": [
       "{'question': 'Show all rentals made in the last 7 days',\n",
       " 'query': \"SELECT * FROM rental WHERE rental_date >= NOW() - INTERVAL '7 days';\",\n",
       " 'explanation': \"This query selects all columns from the 'rental' table where the 'rental_date' is within the last 7 days.  NOW() provides the current timestamp, and INTERVAL '7 days' subtracts 7 days from it.\"}"
      ]
     },
     "execution_count": 5,
     "metadata": {},
     "output_type": "execute_result"
    }
   ],
   "source": [
    "response = get_response(get_prompt(question, metadata=schema_metadata), client)\n",
    "response"
   ]
  },
  {
   "cell_type": "code",
   "execution_count": null,
   "metadata": {},
   "outputs": [
    {
     "name": "stdout",
     "output_type": "stream",
     "text": [
      "SELECT * FROM rental WHERE rental_date >= NOW() - INTERVAL '7 days';\n"
     ]
    }
   ],
   "source": [
    "print(response['query'])"
   ]
  },
  {
   "cell_type": "code",
   "execution_count": null,
   "metadata": {},
   "outputs": [
    {
     "data": {
      "text/html": [
       "<div>\n",
       "<style scoped>\n",
       "    .dataframe tbody tr th:only-of-type {\n",
       "        vertical-align: middle;\n",
       "    }\n",
       "\n",
       "    .dataframe tbody tr th {\n",
       "        vertical-align: top;\n",
       "    }\n",
       "\n",
       "    .dataframe thead th {\n",
       "        text-align: right;\n",
       "    }\n",
       "</style>\n",
       "<table border=\"1\" class=\"dataframe\">\n",
       "  <thead>\n",
       "    <tr style=\"text-align: right;\">\n",
       "      <th></th>\n",
       "      <th>rental_id</th>\n",
       "      <th>rental_date</th>\n",
       "      <th>inventory_id</th>\n",
       "      <th>customer_id</th>\n",
       "      <th>return_date</th>\n",
       "      <th>staff_id</th>\n",
       "      <th>last_update</th>\n",
       "    </tr>\n",
       "  </thead>\n",
       "  <tbody>\n",
       "  </tbody>\n",
       "</table>\n",
       "</div>"
      ],
      "text/plain": [
       "Empty DataFrame\n",
       "Columns: [rental_id, rental_date, inventory_id, customer_id, return_date, staff_id, last_update]\n",
       "Index: []"
      ]
     },
     "execution_count": 7,
     "metadata": {},
     "output_type": "execute_result"
    }
   ],
   "source": [
    "fetch_query_as_df(connection, response['query'])"
   ]
  },
  {
   "cell_type": "markdown",
   "metadata": {},
   "source": [
    "## Giving Definition"
   ]
  },
  {
   "cell_type": "code",
   "execution_count": null,
   "metadata": {},
   "outputs": [
    {
     "data": {
      "text/plain": [
       "{'question': 'Show all rentals made in the last 7 days',\n",
       " 'query': \"SELECT * FROM rental WHERE rental_date >= NOW() - INTERVAL '7 days';\",\n",
       " 'explanation': \"This query selects all columns from the rental table where the rental_date is within the last 7 days. NOW() - INTERVAL '7 days' calculates the date 7 days ago, and the query filters for rentals with a rental_date greater than or equal to that date.\"}"
      ]
     },
     "execution_count": 8,
     "metadata": {},
     "output_type": "execute_result"
    }
   ],
   "source": [
    "response = get_response(get_prompt(question, definition=schema_definition), client)\n",
    "response"
   ]
  },
  {
   "cell_type": "code",
   "execution_count": null,
   "metadata": {},
   "outputs": [
    {
     "name": "stdout",
     "output_type": "stream",
     "text": [
      "SELECT * FROM rental WHERE rental_date >= NOW() - INTERVAL '7 days';\n"
     ]
    }
   ],
   "source": [
    "print(response['query'])"
   ]
  },
  {
   "cell_type": "code",
   "execution_count": null,
   "metadata": {},
   "outputs": [
    {
     "data": {
      "text/html": [
       "<div>\n",
       "<style scoped>\n",
       "    .dataframe tbody tr th:only-of-type {\n",
       "        vertical-align: middle;\n",
       "    }\n",
       "\n",
       "    .dataframe tbody tr th {\n",
       "        vertical-align: top;\n",
       "    }\n",
       "\n",
       "    .dataframe thead th {\n",
       "        text-align: right;\n",
       "    }\n",
       "</style>\n",
       "<table border=\"1\" class=\"dataframe\">\n",
       "  <thead>\n",
       "    <tr style=\"text-align: right;\">\n",
       "      <th></th>\n",
       "      <th>rental_id</th>\n",
       "      <th>rental_date</th>\n",
       "      <th>inventory_id</th>\n",
       "      <th>customer_id</th>\n",
       "      <th>return_date</th>\n",
       "      <th>staff_id</th>\n",
       "      <th>last_update</th>\n",
       "    </tr>\n",
       "  </thead>\n",
       "  <tbody>\n",
       "  </tbody>\n",
       "</table>\n",
       "</div>"
      ],
      "text/plain": [
       "Empty DataFrame\n",
       "Columns: [rental_id, rental_date, inventory_id, customer_id, return_date, staff_id, last_update]\n",
       "Index: []"
      ]
     },
     "execution_count": 10,
     "metadata": {},
     "output_type": "execute_result"
    }
   ],
   "source": [
    "fetch_query_as_df(connection, response['query'])"
   ]
  },
  {
   "cell_type": "markdown",
   "metadata": {},
   "source": [
    "## Giving Both"
   ]
  },
  {
   "cell_type": "code",
   "execution_count": null,
   "metadata": {},
   "outputs": [
    {
     "data": {
      "text/plain": [
       "{'question': 'Show all rentals made in the last 7 days',\n",
       " 'query': \"SELECT * FROM rental WHERE rental_date >= NOW() - INTERVAL '7 days';\",\n",
       " 'explanation': \"This query selects all columns from the 'rental' table where the 'rental_date' is within the last 7 days.  NOW() provides the current timestamp, and INTERVAL '7 days' subtracts 7 days from it.\"}"
      ]
     },
     "execution_count": 11,
     "metadata": {},
     "output_type": "execute_result"
    }
   ],
   "source": [
    "response = get_response(get_prompt(question, definition=schema_definition, metadata=schema_metadata), client)\n",
    "response"
   ]
  },
  {
   "cell_type": "code",
   "execution_count": null,
   "metadata": {},
   "outputs": [
    {
     "name": "stdout",
     "output_type": "stream",
     "text": [
      "SELECT * FROM rental WHERE rental_date >= NOW() - INTERVAL '7 days';\n"
     ]
    }
   ],
   "source": [
    "print(response['query'])"
   ]
  },
  {
   "cell_type": "code",
   "execution_count": null,
   "metadata": {},
   "outputs": [
    {
     "data": {
      "text/html": [
       "<div>\n",
       "<style scoped>\n",
       "    .dataframe tbody tr th:only-of-type {\n",
       "        vertical-align: middle;\n",
       "    }\n",
       "\n",
       "    .dataframe tbody tr th {\n",
       "        vertical-align: top;\n",
       "    }\n",
       "\n",
       "    .dataframe thead th {\n",
       "        text-align: right;\n",
       "    }\n",
       "</style>\n",
       "<table border=\"1\" class=\"dataframe\">\n",
       "  <thead>\n",
       "    <tr style=\"text-align: right;\">\n",
       "      <th></th>\n",
       "      <th>rental_id</th>\n",
       "      <th>rental_date</th>\n",
       "      <th>inventory_id</th>\n",
       "      <th>customer_id</th>\n",
       "      <th>return_date</th>\n",
       "      <th>staff_id</th>\n",
       "      <th>last_update</th>\n",
       "    </tr>\n",
       "  </thead>\n",
       "  <tbody>\n",
       "  </tbody>\n",
       "</table>\n",
       "</div>"
      ],
      "text/plain": [
       "Empty DataFrame\n",
       "Columns: [rental_id, rental_date, inventory_id, customer_id, return_date, staff_id, last_update]\n",
       "Index: []"
      ]
     },
     "execution_count": 13,
     "metadata": {},
     "output_type": "execute_result"
    }
   ],
   "source": [
    "fetch_query_as_df(connection, response['query'])"
   ]
  },
  {
   "cell_type": "markdown",
   "metadata": {},
   "source": [
    "# Giving Text Summary"
   ]
  },
  {
   "cell_type": "code",
   "execution_count": null,
   "metadata": {},
   "outputs": [
    {
     "ename": "NameError",
     "evalue": "name 'everything' is not defined",
     "output_type": "error",
     "traceback": [
      "\u001b[1;31m---------------------------------------------------------------------------\u001b[0m",
      "\u001b[1;31mNameError\u001b[0m                                 Traceback (most recent call last)",
      "Cell \u001b[1;32mIn[14], line 1\u001b[0m\n\u001b[1;32m----> 1\u001b[0m response \u001b[38;5;241m=\u001b[39m get_response(get_prompt(question, metadata\u001b[38;5;241m=\u001b[39m\u001b[43meverything\u001b[49m), client)\n\u001b[0;32m      2\u001b[0m response\n",
      "\u001b[1;31mNameError\u001b[0m: name 'everything' is not defined"
     ]
    }
   ],
   "source": [
    "response = get_response(get_prompt(question, metadata=everything), client)\n",
    "response"
   ]
  },
  {
   "cell_type": "code",
   "execution_count": null,
   "metadata": {},
   "outputs": [
    {
     "name": "stdout",
     "output_type": "stream",
     "text": [
      "SELECT * FROM rental WHERE rental_date >= NOW() - INTERVAL '7 days';\n"
     ]
    }
   ],
   "source": [
    "print(response['query'])"
   ]
  },
  {
   "cell_type": "code",
   "execution_count": null,
   "metadata": {},
   "outputs": [
    {
     "data": {
      "text/html": [
       "<div>\n",
       "<style scoped>\n",
       "    .dataframe tbody tr th:only-of-type {\n",
       "        vertical-align: middle;\n",
       "    }\n",
       "\n",
       "    .dataframe tbody tr th {\n",
       "        vertical-align: top;\n",
       "    }\n",
       "\n",
       "    .dataframe thead th {\n",
       "        text-align: right;\n",
       "    }\n",
       "</style>\n",
       "<table border=\"1\" class=\"dataframe\">\n",
       "  <thead>\n",
       "    <tr style=\"text-align: right;\">\n",
       "      <th></th>\n",
       "      <th>rental_id</th>\n",
       "      <th>rental_date</th>\n",
       "      <th>inventory_id</th>\n",
       "      <th>customer_id</th>\n",
       "      <th>return_date</th>\n",
       "      <th>staff_id</th>\n",
       "      <th>last_update</th>\n",
       "    </tr>\n",
       "  </thead>\n",
       "  <tbody>\n",
       "  </tbody>\n",
       "</table>\n",
       "</div>"
      ],
      "text/plain": [
       "Empty DataFrame\n",
       "Columns: [rental_id, rental_date, inventory_id, customer_id, return_date, staff_id, last_update]\n",
       "Index: []"
      ]
     },
     "execution_count": 43,
     "metadata": {},
     "output_type": "execute_result"
    }
   ],
   "source": [
    "fetch_query_as_df(connection, response['query'])"
   ]
  },
  {
   "cell_type": "code",
   "execution_count": null,
   "metadata": {},
   "outputs": [],
   "source": [
    "everything = schema_definition + '\\n' + schema_metadata + '\\n'  + summary"
   ]
  },
  {
   "cell_type": "markdown",
   "metadata": {},
   "source": [
    "# Running All"
   ]
  },
  {
   "cell_type": "code",
   "execution_count": null,
   "metadata": {},
   "outputs": [
    {
     "ename": "NameError",
     "evalue": "name 'pd' is not defined",
     "output_type": "error",
     "traceback": [
      "\u001b[1;31m---------------------------------------------------------------------------\u001b[0m",
      "\u001b[1;31mNameError\u001b[0m                                 Traceback (most recent call last)",
      "Cell \u001b[1;32mIn[1], line 1\u001b[0m\n\u001b[1;32m----> 1\u001b[0m questions \u001b[38;5;241m=\u001b[39m \u001b[38;5;28mlist\u001b[39m(\u001b[43mpd\u001b[49m\u001b[38;5;241m.\u001b[39mread_csv(\u001b[38;5;124mr\u001b[39m\u001b[38;5;124m\"\u001b[39m\u001b[38;5;124mC:\u001b[39m\u001b[38;5;124m\\\u001b[39m\u001b[38;5;124mUsers\u001b[39m\u001b[38;5;124m\\\u001b[39m\u001b[38;5;124mAnush\u001b[39m\u001b[38;5;124m\\\u001b[39m\u001b[38;5;124mDesktop\u001b[39m\u001b[38;5;124m\\\u001b[39m\u001b[38;5;124mProjects\u001b[39m\u001b[38;5;124m\\\u001b[39m\u001b[38;5;124mtext-to-sql\u001b[39m\u001b[38;5;124m\\\u001b[39m\u001b[38;5;124mevaluation.csv\u001b[39m\u001b[38;5;124m\"\u001b[39m)[\u001b[38;5;124m'\u001b[39m\u001b[38;5;124mNatural Language Query\u001b[39m\u001b[38;5;124m'\u001b[39m, \u001b[38;5;124m'\u001b[39m\u001b[38;5;124mDifficulty\u001b[39m\u001b[38;5;124m'\u001b[39m])\n\u001b[0;32m      2\u001b[0m questions[:\u001b[38;5;241m3\u001b[39m]\n",
      "\u001b[1;31mNameError\u001b[0m: name 'pd' is not defined"
     ]
    }
   ],
   "source": [
    "questions = list(pd.read_csv(r\"C:\\Users\\Anush\\Desktop\\Projects\\text-to-sql\\evaluation.csv\")['Natural Language Query', 'Difficulty'])\n",
    "questions[:3]"
   ]
  },
  {
   "cell_type": "code",
   "execution_count": null,
   "metadata": {},
   "outputs": [],
   "source": [
    "from time import sleep\n",
    "answers = {}\n",
    "for question in questions:\n",
    "    sleep(1)\n",
    "    answers[question] = get_response(get_prompt(question, metadata=everything), client)"
   ]
  },
  {
   "cell_type": "code",
   "execution_count": null,
   "metadata": {},
   "outputs": [
    {
     "name": "stdout",
     "output_type": "stream",
     "text": [
      "{'question': \"List all actors' first and last names.\", 'query': 'SELECT first_name, last_name FROM actor;', 'explanation': \"This query selects the first_name and last_name columns from the actor table, effectively listing all actors' first and last names.\"}\n",
      "--------------------------------------------------\n",
      "  first_name     last_name\n",
      "0   PENELOPE       GUINESS\n",
      "1       NICK      WAHLBERG\n",
      "2         ED         CHASE\n",
      "3   JENNIFER         DAVIS\n",
      "4     JOHNNY  LOLLOBRIGIDA\n",
      "--------------------------------------------------\n",
      "\n",
      "\n",
      "\n",
      "\n",
      "{'question': 'Show the titles of all films in the database.', 'query': 'SELECT title FROM film;', 'explanation': \"This query selects the 'title' column from the 'film' table, which contains the titles of all films in the database.\"}\n",
      "--------------------------------------------------\n",
      "              title\n",
      "0  ACADEMY DINOSAUR\n",
      "1    ACE GOLDFINGER\n",
      "2  ADAPTATION HOLES\n",
      "3  AFFAIR PREJUDICE\n",
      "4       AFRICAN EGG\n",
      "--------------------------------------------------\n",
      "\n",
      "\n",
      "\n",
      "\n",
      "{'question': 'Get the names of all cities.', 'query': 'SELECT city FROM city', 'explanation': \"This query selects the 'city' column from the 'city' table, which contains the names of all cities.\"}\n",
      "--------------------------------------------------\n",
      "                 city\n",
      "0  A Corua (La Corua)\n",
      "1                Abha\n",
      "2           Abu Dhabi\n",
      "3                Acua\n",
      "4               Adana\n",
      "--------------------------------------------------\n",
      "\n",
      "\n",
      "\n",
      "\n",
      "{'question': 'List all categories available for films.', 'query': 'SELECT name FROM category;', 'explanation': \"The question asks for a list of all film categories. The category table contains the names of all categories in the 'name' column. Therefore, selecting the 'name' column from the category table will provide the answer.\"}\n",
      "--------------------------------------------------\n",
      "        name\n",
      "0     Action\n",
      "1  Animation\n",
      "2   Children\n",
      "3   Classics\n",
      "4     Comedy\n",
      "--------------------------------------------------\n",
      "\n",
      "\n",
      "\n",
      "\n",
      "{'question': 'Show the first name and last name of all customers.', 'query': 'SELECT first_name, last_name FROM customer;', 'explanation': 'This query selects the first_name and last_name columns from the customer table, effectively showing the first name and last name of all customers.'}\n",
      "--------------------------------------------------\n",
      "  first_name last_name\n",
      "0       MARY     SMITH\n",
      "1   PATRICIA   JOHNSON\n",
      "2      LINDA  WILLIAMS\n",
      "3    BARBARA     JONES\n",
      "4  ELIZABETH     BROWN\n",
      "--------------------------------------------------\n",
      "\n",
      "\n",
      "\n",
      "\n",
      "{'question': 'Show all films released in 2006.', 'query': 'SELECT film_id, title FROM film WHERE release_year = 2006', 'explanation': 'The query selects the film_id and title from the film table where the release_year is 2006.'}\n",
      "--------------------------------------------------\n",
      "   film_id                 title\n",
      "0      213            DATE SPEED\n",
      "1       20   AMELIE HELLFIGHTERS\n",
      "2       29    ANTITRUST TOMATOES\n",
      "3       41  ARSENIC INDEPENDENCE\n",
      "4       65      BEHAVIOR RUNAWAY\n",
      "--------------------------------------------------\n",
      "\n",
      "\n",
      "\n",
      "\n",
      "{'question': 'Find all actors with the last name \"Smith.\"', 'query': \"SELECT * FROM actor WHERE last_name = 'Smith';\", 'explanation': \"This query selects all columns from the 'actor' table where the 'last_name' column is equal to 'Smith'.\"}\n",
      "--------------------------------------------------\n",
      "Empty DataFrame\n",
      "Columns: [actor_id, first_name, last_name, last_update]\n",
      "Index: []\n",
      "--------------------------------------------------\n",
      "\n",
      "\n",
      "\n",
      "\n",
      "{'question': 'List all customers who are from the city of \"New York.\"', 'query': \"SELECT c.first_name, c.last_name\\nFROM customer AS c\\nJOIN address AS a ON c.address_id = a.address_id\\nJOIN city AS ci ON a.city_id = ci.city_id\\nWHERE ci.city = 'New York';\", 'explanation': \"The query joins the customer, address, and city tables to find customers residing in 'New York'. It selects the first and last names of these customers.\"}\n",
      "--------------------------------------------------\n",
      "Empty DataFrame\n",
      "Columns: [first_name, last_name]\n",
      "Index: []\n",
      "--------------------------------------------------\n",
      "\n",
      "\n",
      "\n",
      "\n",
      "{'question': 'Get all stores located in the country \"India.\"', 'query': \"SELECT s.store_id\\nFROM store AS s\\nJOIN address AS a ON s.address_id = a.address_id\\nJOIN city AS c ON a.city_id = c.city_id\\nJOIN country AS co ON c.country_id = co.country_id\\nWHERE co.country = 'India';\", 'explanation': 'The query joins the store, address, city, and country tables to find stores located in India. It selects the store_id from the store table where the country is India.'}\n",
      "--------------------------------------------------\n",
      "   store_id\n",
      "0        13\n",
      "1        18\n",
      "2        21\n",
      "3        27\n",
      "4        39\n",
      "--------------------------------------------------\n",
      "\n",
      "\n",
      "\n",
      "\n",
      "{'question': 'Show all films with a rental rate greater than $2.99.', 'query': 'SELECT film_id, title FROM film WHERE rental_rate > 2.99;', 'explanation': 'This query selects the film_id and title from the film table where the rental_rate is greater than 2.99.'}\n",
      "--------------------------------------------------\n",
      "   film_id             title\n",
      "0        2    ACE GOLDFINGER\n",
      "1        7   AIRPLANE SIERRA\n",
      "2        8   AIRPORT POLLOCK\n",
      "3       10  ALADDIN CALENDAR\n",
      "4       13       ALI FOREVER\n",
      "--------------------------------------------------\n",
      "\n",
      "\n",
      "\n",
      "\n",
      "{'question': 'How many films are there in each category?', 'query': 'SELECT c.name, count(fc.film_id) AS film_count\\nFROM category c\\nJOIN film_category fc ON c.category_id = fc.category_id\\nGROUP BY c.name', 'explanation': 'This query joins the category and film_category tables on their respective category_id columns. It then groups the results by category name and counts the number of films in each category.'}\n",
      "--------------------------------------------------\n",
      "       name  film_count\n",
      "0    Sports         145\n",
      "1  Classics         147\n",
      "2       New         147\n",
      "3    Family         147\n",
      "4    Comedy         143\n",
      "--------------------------------------------------\n",
      "\n",
      "\n",
      "\n",
      "\n",
      "{'question': 'What is the total number of actors?', 'query': 'SELECT count(*) FROM actor;', 'explanation': \"This query counts all rows in the 'actor' table, which directly corresponds to the total number of actors.\"}\n",
      "--------------------------------------------------\n",
      "   count\n",
      "0    200\n",
      "--------------------------------------------------\n",
      "\n",
      "\n",
      "\n",
      "\n",
      "{'question': 'Get the total payment received in June 2022.', 'query': \"SELECT sum(amount) FROM payment WHERE payment_date >= '2022-06-01' AND payment_date < '2022-07-01';\", 'explanation': \"This query selects the sum of the amount column from the payment table where the payment_date is within June 2022 (greater than or equal to '2022-06-01' and less than '2022-07-01').\"}\n",
      "--------------------------------------------------\n",
      "        sum\n",
      "0  10923.45\n",
      "--------------------------------------------------\n",
      "\n",
      "\n",
      "\n",
      "\n",
      "{'question': 'Find the total number of rentals made last month.', 'query': \"SELECT count(*) FROM rental WHERE rental_date >= date_trunc('month', current_date - interval '1 month') AND rental_date < date_trunc('month', current_date);\", 'explanation': 'This query counts the number of rentals within the last month. It filters the rental table by rental_date, selecting only those rentals where the rental_date falls within the range of the start of last month and the start of the current month.'}\n",
      "--------------------------------------------------\n",
      "   count\n",
      "0      0\n",
      "--------------------------------------------------\n",
      "\n",
      "\n",
      "\n",
      "\n",
      "{'question': 'How many films have a rating of \"PG-13\"?', 'query': \"SELECT count(*) FROM film WHERE rating = 'PG-13'\", 'explanation': \"This query counts the number of films in the film table where the rating is equal to 'PG-13'.\"}\n",
      "--------------------------------------------------\n",
      "   count\n",
      "0    223\n",
      "--------------------------------------------------\n",
      "\n",
      "\n",
      "\n",
      "\n",
      "{'question': 'List all films along with their category names.', 'query': 'SELECT f.title AS film_title, c.name AS category_name\\nFROM film f\\nJOIN film_category fc ON f.film_id = fc.film_id\\nJOIN category c ON fc.category_id = c.category_id;', 'explanation': 'This query retrieves the title of each film from the film table and the name of its category from the category table. It joins the film and category tables through the film_category table, which acts as a linking table in this many-to-many relationship.'}\n",
      "--------------------------------------------------\n",
      "             film_title category_name\n",
      "0   BAREFOOT MANCHURIAN        Horror\n",
      "1          BED HIGHBALL        Comedy\n",
      "2  BREAKFAST GOLDFINGER   Documentary\n",
      "3       ARMAGEDDON LOST        Family\n",
      "4           AFRICAN EGG       Foreign\n",
      "--------------------------------------------------\n",
      "\n",
      "\n",
      "\n",
      "\n",
      "{'question': 'Show all actors who appeared in the film \"Inception.\"', 'query': \"SELECT a.first_name, a.last_name\\nFROM actor a\\nJOIN film_actor fa ON a.actor_id = fa.actor_id\\nJOIN film f ON fa.film_id = f.film_id\\nWHERE f.title = 'Inception';\", 'explanation': \"This query retrieves the first and last names of all actors who appeared in the film 'Inception'. It joins the actor, film_actor, and film tables to link actors to their films and filters the results to only include actors who appeared in 'Inception'.\"}\n",
      "--------------------------------------------------\n",
      "Empty DataFrame\n",
      "Columns: [first_name, last_name]\n",
      "Index: []\n",
      "--------------------------------------------------\n",
      "\n",
      "\n",
      "\n",
      "\n",
      "{'question': 'Get a list of all customers and the films they have rented.', 'query': 'SELECT c.first_name, c.last_name, f.title\\nFROM customer c\\nJOIN rental r ON c.customer_id = r.customer_id\\nJOIN inventory i ON r.inventory_id = i.inventory_id\\nJOIN film f ON i.film_id = f.film_id;', 'explanation': 'This query joins the customer, rental, inventory, and film tables to retrieve the first name, last name of each customer and the title of the films they have rented. The customer and rental tables are joined on customer_id, the rental and inventory tables are joined on inventory_id, and the inventory and film tables are joined on film_id.'}\n",
      "--------------------------------------------------\n",
      "  first_name    last_name            title\n",
      "0      TOMMY      COLLAZO     FREAKY POCUS\n",
      "1     MANUEL      MURRELL    GRADUATE LORD\n",
      "2     ANDREW        PURDY    LOVE SUICIDES\n",
      "3    DELORES       HANSEN  IDOLS SNATCHERS\n",
      "4     NELSON  CHRISTENSON    MYSTIC TRUMAN\n",
      "--------------------------------------------------\n",
      "\n",
      "\n",
      "\n",
      "\n",
      "{'question': 'List all staff members along with the stores they work at.', 'query': 'SELECT s.first_name, s.last_name, st.store_id\\nFROM staff AS s\\nJOIN store AS st ON s.store_id = st.store_id;', 'explanation': 'This query retrieves the first name, last name from the staff table and the store id from the store table. It joins the staff and store tables on the store_id column to link staff members to their respective stores.'}\n",
      "--------------------------------------------------\n",
      "  first_name  last_name  store_id\n",
      "0      Tisha    DuBuque        23\n",
      "1     Warner     Hudson        25\n",
      "2     Lavone   O'Reilly        33\n",
      "3      Louie     Walter        18\n",
      "4   Domenica  Armstrong         3\n",
      "--------------------------------------------------\n",
      "\n",
      "\n",
      "\n",
      "\n",
      "{'question': 'Find all films rented by customer \"John Doe.\"', 'query': \"SELECT f.title\\nFROM film f\\nJOIN inventory i ON f.film_id = i.film_id\\nJOIN rental r ON i.inventory_id = r.inventory_id\\nJOIN customer c ON r.customer_id = c.customer_id\\nWHERE c.first_name = 'John' AND c.last_name = 'Doe';\", 'explanation': \"This query joins the film, inventory, rental, and customer tables to find the films rented by a customer named John Doe. It selects the film title from the film table, joins it with the inventory table on film_id, then joins the inventory table with the rental table on inventory_id, and finally joins the rental table with the customer table on customer_id. The WHERE clause filters the results to only include rentals made by customers with the first name 'John' and the last name 'Doe'.\"}\n",
      "--------------------------------------------------\n",
      "Empty DataFrame\n",
      "Columns: [title]\n",
      "Index: []\n",
      "--------------------------------------------------\n",
      "\n",
      "\n",
      "\n",
      "\n",
      "{'question': 'Show the top 5 films rented the most across all stores.', 'query': 'SELECT f.title, COUNT(r.rental_id) AS rental_count\\nFROM film f\\nJOIN inventory i ON f.film_id = i.film_id\\nJOIN rental r ON i.inventory_id = r.inventory_id\\nGROUP BY f.title\\nORDER BY rental_count DESC\\nLIMIT 5;', 'explanation': 'This query joins the film, inventory, and rental tables to count the number of times each film has been rented. It then groups the results by film title, orders them by the rental count in descending order, and limits the output to the top 5 films.'}\n",
      "--------------------------------------------------\n",
      "                 title  rental_count\n",
      "0   BUCKET BROTHERHOOD            34\n",
      "1     ROCKETEER MOTHER            33\n",
      "2  RIDGEMONT SUBMARINE            32\n",
      "3        SCALAWAG DUCK            32\n",
      "4       FORWARD TEMPLE            32\n",
      "--------------------------------------------------\n",
      "\n",
      "\n",
      "\n",
      "\n",
      "{'question': 'List all customers who have rented films in both store 1 and store 2.', 'query': 'SELECT DISTINCT r.customer_id\\nFROM rental r\\nJOIN inventory i ON r.inventory_id = i.inventory_id\\nWHERE i.store_id = 1\\nINTERSECT\\nSELECT DISTINCT r.customer_id\\nFROM rental r\\nJOIN inventory i ON r.inventory_id = i.inventory_id\\nWHERE i.store_id = 2;', 'explanation': 'The query uses the INTERSECT operator to find the common customer IDs from two separate SELECT statements. The first SELECT statement retrieves all distinct customer IDs who have rented films from store 1. The second SELECT statement retrieves all distinct customer IDs who have rented films from store 2. The INTERSECT operator then returns only the customer IDs that appear in both result sets, effectively listing customers who have rented films in both store 1 and store 2. The rental and inventory tables are joined on inventory_id to link rentals to specific stores.'}\n",
      "--------------------------------------------------\n",
      "   customer_id\n",
      "0          184\n",
      "1           87\n",
      "2          477\n",
      "3          273\n",
      "4          550\n",
      "--------------------------------------------------\n",
      "\n",
      "\n",
      "\n",
      "\n",
      "{'question': 'Find all actors who have appeared in more than 10 films.', 'query': 'SELECT a.actor_id, a.first_name, a.last_name\\nFROM actor a\\nJOIN film_actor fa ON a.actor_id = fa.actor_id\\nGROUP BY a.actor_id, a.first_name, a.last_name\\nHAVING COUNT(fa.film_id) > 10;', 'explanation': 'This query joins the actor and film_actor tables on actor_id, groups the results by actor, and then filters for actors who have appeared in more than 10 films using the HAVING clause.'}\n",
      "--------------------------------------------------\n",
      "   actor_id first_name    last_name\n",
      "0       184   HUMPHREY      GARLAND\n",
      "1        87    SPENCER         PECK\n",
      "2        51       GARY      PHOENIX\n",
      "3        70   MICHELLE  MCCONAUGHEY\n",
      "4       190     AUDREY       BAILEY\n",
      "--------------------------------------------------\n",
      "\n",
      "\n",
      "\n",
      "\n",
      "{'question': 'Get a list of customers who have made more than 5 payments.', 'query': 'SELECT customer_id FROM payment GROUP BY customer_id HAVING count(*) > 5', 'explanation': 'This query groups the payments table by customer_id and then filters those groups to only include customer_ids where the count of payments is greater than 5.'}\n",
      "--------------------------------------------------\n",
      "   customer_id\n",
      "0          184\n",
      "1           87\n",
      "2          477\n",
      "3          273\n",
      "4          550\n",
      "--------------------------------------------------\n",
      "\n",
      "\n",
      "\n",
      "\n",
      "{'question': 'List all films that are in both the \"Action\" and \"Comedy\" categories.', 'query': \"SELECT f.title\\nFROM film f\\nJOIN film_category fc1 ON f.film_id = fc1.film_id\\nJOIN category c1 ON fc1.category_id = c1.category_id AND c1.name = 'Action'\\nJOIN film_category fc2 ON f.film_id = fc2.film_id\\nJOIN category c2 ON fc2.category_id = c2.category_id AND c2.name = 'Comedy';\", 'explanation': \"This query works by joining the film table to the film_category table twice, once for each category ('Action' and 'Comedy'). It then ensures that the film_id is present in both categories by joining on the film_id.\"}\n",
      "--------------------------------------------------\n",
      "               title\n",
      "0      CATCH AMISTAD\n",
      "1   DAUGHTER MADIGAN\n",
      "2    DISCIPLE MOTHER\n",
      "3  FIREHOUSE VIETNAM\n",
      "4      FERRIS MOTHER\n",
      "--------------------------------------------------\n",
      "\n",
      "\n",
      "\n",
      "\n",
      "{'question': 'Show all rentals made in the last 7 days.', 'query': \"SELECT * FROM rental WHERE rental_date >= NOW() - INTERVAL '7 days';\", 'explanation': \"This query selects all columns from the 'rental' table where the 'rental_date' is within the last 7 days.  The NOW() function returns the current timestamp, and we subtract an interval of 7 days to get the cutoff date.\"}\n",
      "--------------------------------------------------\n",
      "Empty DataFrame\n",
      "Columns: [rental_id, rental_date, inventory_id, customer_id, return_date, staff_id, last_update]\n",
      "Index: []\n",
      "--------------------------------------------------\n",
      "\n",
      "\n",
      "\n",
      "\n",
      "{'question': 'Get all payments made in February 2022.', 'query': 'SELECT * FROM payment_p2022_02', 'explanation': 'The question asks for all payments made in February 2022. Since the payment table is partitioned by month, the query selects all columns from the payment_p2022_02 table, which contains the payments made in February 2022.'}\n",
      "--------------------------------------------------\n",
      "   payment_id  customer_id  staff_id  rental_id  amount  \\\n",
      "0       16056          270         1        193    1.99   \n",
      "1       16075          278         1       1092    4.99   \n",
      "2       16077          279         2       1019    0.99   \n",
      "3       16078          280         1       1014    4.99   \n",
      "4       16103          294         1        595    1.99   \n",
      "\n",
      "                      payment_date  \n",
      "0 2022-02-03 01:49:30.663659+00:00  \n",
      "1 2022-02-14 16:08:09.981165+00:00  \n",
      "2 2022-02-09 21:43:26.740315+00:00  \n",
      "3 2022-02-06 00:01:36.023609+00:00  \n",
      "4 2022-02-02 05:00:37.577890+00:00  \n",
      "--------------------------------------------------\n",
      "\n",
      "\n",
      "\n",
      "\n",
      "{'question': 'List all films that have not been rented in the last 30 days.', 'query': \"SELECT film.title\\nFROM film\\nWHERE film.film_id NOT IN (SELECT inventory.film_id FROM rental JOIN inventory ON rental.inventory_id = inventory.inventory_id WHERE rental_date >= NOW() - INTERVAL '30 days');\", 'explanation': 'This query selects the titles of all films whose film_id does not appear in the subquery. The subquery selects the film_id from the inventory table for all rentals that occurred in the last 30 days. This effectively identifies all films that have not been rented in the last 30 days.'}\n",
      "--------------------------------------------------\n",
      "              title\n",
      "0  ACADEMY DINOSAUR\n",
      "1    ACE GOLDFINGER\n",
      "2  ADAPTATION HOLES\n",
      "3  AFFAIR PREJUDICE\n",
      "4       AFRICAN EGG\n",
      "--------------------------------------------------\n",
      "\n",
      "\n",
      "\n",
      "\n",
      "{'question': 'Find all customers who registered in the last 6 months.', 'query': \"SELECT customer_id, first_name, last_name, email FROM customer WHERE create_date >= NOW() - INTERVAL '6 months';\", 'explanation': \"This query selects the customer_id, first_name, last_name, and email from the customer table where the create_date is within the last 6 months. The NOW() function returns the current timestamp, and the INTERVAL '6 months' subtracts 6 months from the current timestamp.\"}\n",
      "--------------------------------------------------\n",
      "Empty DataFrame\n",
      "Columns: [customer_id, first_name, last_name, email]\n",
      "Index: []\n",
      "--------------------------------------------------\n",
      "\n",
      "\n",
      "\n",
      "\n",
      "{'question': 'Show all staff members hired before January 1, 2020.', 'query': 'SELECT * FROM staff', 'explanation': \"The table 'staff' does not contain information about when staff members were hired. Therefore, it is impossible to filter staff members based on their hiring date. Returning all staff members.\"}\n",
      "--------------------------------------------------\n",
      "   staff_id first_name  last_name  address_id  \\\n",
      "0         0      Tisha    DuBuque          28   \n",
      "1         1     Warner     Hudson          45   \n",
      "2         2     Lavone   O'Reilly           6   \n",
      "3         3      Louie     Walter          28   \n",
      "4         4   Domenica  Armstrong           8   \n",
      "\n",
      "                                         email  store_id  active  \\\n",
      "0          schneider9987@rosenbaumreichert.com        23    True   \n",
      "1                  hartmann1448@ratkehaley.com        25    True   \n",
      "2  mclaughlin3045@kleinwisokyandswaniawski.com        33    True   \n",
      "3               ondricka8612@baileykeebler.com        18    True   \n",
      "4                     walsh2658@corkeryinc.com         3    True   \n",
      "\n",
      "           username                                  password  \\\n",
      "0      sina.corkery  8cb2237d0679ca88db6464eac60da96345513964   \n",
      "1           fay.kub  8cb2237d0679ca88db6464eac60da96345513964   \n",
      "2    gaston.wuckert  8cb2237d0679ca88db6464eac60da96345513964   \n",
      "3      lewis.damore  8cb2237d0679ca88db6464eac60da96345513964   \n",
      "4  jannette.effertz  8cb2237d0679ca88db6464eac60da96345513964   \n",
      "\n",
      "                       last_update picture  \n",
      "0 2022-05-16 15:13:11.793280+00:00    None  \n",
      "1 2022-05-16 15:13:11.793280+00:00    None  \n",
      "2 2022-05-16 15:13:11.793280+00:00    None  \n",
      "3 2022-05-16 15:13:11.793280+00:00    None  \n",
      "4 2022-05-16 15:13:11.793280+00:00    None  \n",
      "--------------------------------------------------\n",
      "\n",
      "\n",
      "\n",
      "\n",
      "{'question': 'List the top 3 customers who have spent the most in each country.', 'query': \"WITH CustomerSpending AS (\\n    SELECT\\n        c.customer_id,\\n        c.first_name || ' ' || c.last_name AS customer_name,\\n        cy.country,\\n        SUM(p.amount) AS total_spent,\\n        ROW_NUMBER() OVER (PARTITION BY cy.country ORDER BY SUM(p.amount) DESC) AS customer_rank\\n    FROM\\n        customer AS c\\n    JOIN\\n        address AS a ON c.address_id = a.address_id\\n    JOIN\\n        city AS ci ON a.city_id = ci.city_id\\n    JOIN\\n        country AS cy ON ci.country_id = cy.country_id\\n    JOIN\\n        payment AS p ON c.customer_id = p.customer_id\\n    GROUP BY\\n        c.customer_id, customer_name, cy.country\\n)\\nSELECT\\n    customer_id,\\n    customer_name,\\n    country,\\n    total_spent\\nFROM\\n    CustomerSpending\\nWHERE\\n    customer_rank <= 3\\nORDER BY\\n    country, total_spent DESC;\", 'explanation': 'This query first calculates the total spending of each customer in each country using a common table expression (CTE) called `CustomerSpending`. It joins the `customer`, `address`, `city`, `country`, and `payment` tables to link customers to their country and calculate their total spending. The `ROW_NUMBER()` window function is used to rank customers within each country based on their total spending. Finally, the query selects the customer ID, customer name, country, and total spending for the top 3 customers in each country based on the calculated rank.'}\n",
      "--------------------------------------------------\n",
      "   customer_id   customer_name         country  total_spent\n",
      "0          218      VERA MCCOY     Afghanistan        67.82\n",
      "1          176    JUNE CARROLL         Algeria       173.63\n",
      "2          441  MARIO CHEATHAM         Algeria       112.72\n",
      "3           69       JUDY GRAY         Algeria        96.75\n",
      "4          320  ANTHONY SCHWAB  American Samoa        71.80\n",
      "--------------------------------------------------\n",
      "\n",
      "\n",
      "\n",
      "\n",
      "{'question': 'Find the films that have been rented more times than the average number of rentals per film.', 'query': 'SELECT f.title\\nFROM film f\\nJOIN inventory i ON f.film_id = i.film_id\\nJOIN rental r ON i.inventory_id = r.inventory_id\\nGROUP BY f.film_id, f.title\\nHAVING COUNT(r.rental_id) > (SELECT AVG(rental_count)\\n                                FROM (SELECT COUNT(rental_id) AS rental_count\\n                                      FROM rental\\n                                      JOIN inventory ON rental.inventory_id = inventory.inventory_id\\n                                      GROUP BY film_id) AS subquery);', 'explanation': 'This query first calculates the average number of rentals per film using a subquery. Then, it joins the film, inventory, and rental tables to count the number of rentals for each film. Finally, it filters the results to include only those films with a rental count greater than the calculated average.'}\n",
      "--------------------------------------------------\n",
      "              title\n",
      "0  EFFECT GLADIATOR\n",
      "1  BALLOON HOMEWARD\n",
      "2    VOYAGE LEGALLY\n",
      "3  BIKINI BORROWERS\n",
      "4     GARDEN ISLAND\n",
      "--------------------------------------------------\n",
      "\n",
      "\n",
      "\n",
      "\n",
      "{'question': \"For each actor, show their name and the percentage of films they've acted in compared to the total films.\", 'query': \"SELECT\\n  a.first_name || ' ' || a.last_name AS actor_name,\\n  (COUNT(fa.film_id) * 100.0 / (SELECT COUNT(*) FROM film)) AS film_percentage\\nFROM actor AS a\\nJOIN film_actor AS fa\\n  ON a.actor_id = fa.actor_id\\nGROUP BY\\n  a.actor_id, actor_name\\nORDER BY\\n  actor_name;\", 'explanation': 'This query calculates the percentage of films each actor has acted in compared to the total number of films. It joins the actor and film_actor tables, groups the results by actor, and then calculates the percentage using the COUNT aggregate function and a subquery to get the total number of films.'}\n",
      "--------------------------------------------------\n",
      "         actor_name  film_percentage\n",
      "0        ADAM GRANT              1.8\n",
      "1       ADAM HOPPER              2.2\n",
      "2     ALAN DREYFUSS              2.7\n",
      "3  ALBERT JOHANSSON              3.3\n",
      "4      ALBERT NOLTE              3.1\n",
      "--------------------------------------------------\n",
      "\n",
      "\n",
      "\n",
      "\n",
      "{'question': 'Show the average payment amount for each customer.', 'query': 'SELECT customer_id, AVG(amount) AS average_payment_amount FROM payment GROUP BY customer_id;', 'explanation': 'This query selects the customer_id and calculates the average payment amount for each customer using the AVG aggregate function. The results are grouped by customer_id to provide the average payment amount for each individual customer.'}\n",
      "--------------------------------------------------\n",
      "   customer_id  average_payment_amount\n",
      "0          184                3.946522\n",
      "1           87                4.856667\n",
      "2          477                4.990000\n",
      "3          273                4.504286\n",
      "4          550                4.990000\n",
      "--------------------------------------------------\n",
      "\n",
      "\n",
      "\n",
      "\n",
      "{'question': 'List all actors who have appeared in at least one film in each category.', 'query': 'SELECT a.actor_id, a.first_name, a.last_name\\nFROM actor a\\nWHERE NOT EXISTS (\\n    SELECT c.category_id\\n    FROM category c\\n    WHERE NOT EXISTS (\\n        SELECT 1\\n        FROM film_actor fa\\n        JOIN film_category fc ON fa.film_id = fc.film_id\\n        WHERE fa.actor_id = a.actor_id AND fc.category_id = c.category_id\\n    )\\n);', 'explanation': 'This query selects all actors who have appeared in at least one film in each category. It uses a double negative logic with nested NOT EXISTS clauses. The outer NOT EXISTS checks if there is any category for which the actor has not appeared in any film. If there is no such category, it means the actor has appeared in at least one film in each category.'}\n",
      "--------------------------------------------------\n",
      "   actor_id first_name     last_name\n",
      "0         3         ED         CHASE\n",
      "1         5     JOHNNY  LOLLOBRIGIDA\n",
      "2         7      GRACE        MOSTEL\n",
      "3         8    MATTHEW     JOHANSSON\n",
      "4         9        JOE         SWANK\n",
      "--------------------------------------------------\n",
      "\n",
      "\n",
      "\n",
      "\n",
      "{'question': 'Find customers who have rented more films this year than last year.', 'query': None, 'explanation': 'The database schema does not directly support year-based filtering on rental counts. The rental table stores rental_date, but there are no built-in functions or columns to easily extract the year and compare rental counts between years for each customer. Therefore, I cannot generate a query to fulfill this request.'}\n",
      "--------------------------------------------------\n",
      "Error executing query: Not an executable object: None\n",
      "'NoneType' object has no attribute 'iloc'\n",
      "--------------------------------------------------\n",
      "\n",
      "\n",
      "\n",
      "\n",
      "{'question': 'List the top 5 films with the highest revenue.', 'query': 'SELECT f.title, SUM(p.amount) AS revenue\\nFROM film f\\nJOIN inventory i ON f.film_id = i.film_id\\nJOIN rental r ON i.inventory_id = r.inventory_id\\nJOIN payment p ON r.rental_id = p.rental_id\\nGROUP BY f.title\\nORDER BY revenue DESC\\nLIMIT 5;', 'explanation': 'This query joins the film, inventory, rental, and payment tables to calculate the revenue for each film. It groups the results by film title, orders them by revenue in descending order, and limits the output to the top 5 films.'}\n",
      "--------------------------------------------------\n",
      "               title  revenue\n",
      "0   TELEGRAPH VOYAGE   231.73\n",
      "1          WIFE TURN   223.69\n",
      "2          ZORRO ARK   214.69\n",
      "3  GOODFELLAS SALUTE   209.69\n",
      "4     SATURDAY LAMBS   204.72\n",
      "--------------------------------------------------\n",
      "\n",
      "\n",
      "\n",
      "\n",
      "{'question': 'For each customer, show the number of films rented in the last month compared to the previous month.', 'query': \"WITH LastMonthRentals AS (\\n    SELECT \\n        customer_id,\\n        COUNT(rental_id) AS last_month_rentals\\n    FROM rental\\n    WHERE rental_date >= DATE_TRUNC('month', CURRENT_DATE - INTERVAL '1 month')\\n    AND rental_date < DATE_TRUNC('month', CURRENT_DATE)\\n    GROUP BY customer_id\\n),\\nPreviousMonthRentals AS (\\n    SELECT \\n        customer_id,\\n        COUNT(rental_id) AS previous_month_rentals\\n    FROM rental\\n    WHERE rental_date >= DATE_TRUNC('month', CURRENT_DATE - INTERVAL '2 months')\\n    AND rental_date < DATE_TRUNC('month', CURRENT_DATE - INTERVAL '1 month')\\n    GROUP BY customer_id\\n)\\n\\nSELECT\\n    COALESCE(lmr.customer_id, pmr.customer_id) AS customer_id,\\n    COALESCE(lmr.last_month_rentals, 0) AS last_month_rentals,\\n    COALESCE(pmr.previous_month_rentals, 0) AS previous_month_rentals\\nFROM LastMonthRentals lmr\\nFULL OUTER JOIN PreviousMonthRentals pmr ON lmr.customer_id = pmr.customer_id;\\n\", 'explanation': \"The query calculates the number of films rented by each customer in the last month and the previous month. It uses common table expressions (CTEs) to group rentals by customer and month, and then joins these CTEs to compare the rental counts. A FULL OUTER JOIN is used to include all customers, even those who only rented in one of the months. COALESCE is used to handle cases where a customer didn't rent in a particular month, setting the rental count to 0.\"}\n",
      "--------------------------------------------------\n",
      "Empty DataFrame\n",
      "Columns: [customer_id, last_month_rentals, previous_month_rentals]\n",
      "Index: []\n",
      "--------------------------------------------------\n",
      "\n",
      "\n",
      "\n",
      "\n",
      "{'question': 'Show the names of customers who have rented every film in the \"Action\" category.', 'query': None, 'explanation': \"The database schema does not directly support determining which customers have rented *every* film in a specific category. To achieve this, a complex query involving subqueries and potentially window functions would be needed to compare each customer's rentals against the complete list of films in the 'Action' category. The provided metadata lacks the necessary information to construct such a query effectively.\"}\n",
      "--------------------------------------------------\n",
      "Error executing query: Not an executable object: None\n",
      "'NoneType' object has no attribute 'iloc'\n",
      "--------------------------------------------------\n",
      "\n",
      "\n",
      "\n",
      "\n",
      "{'question': 'List customers who have rented the same film more than 3 times.', 'query': 'SELECT c.first_name, c.last_name, f.title, COUNT(r.rental_id) AS rental_count\\nFROM customer c\\nJOIN rental r ON c.customer_id = r.customer_id\\nJOIN inventory i ON r.inventory_id = i.inventory_id\\nJOIN film f ON i.film_id = f.film_id\\nGROUP BY c.customer_id, f.film_id\\nHAVING COUNT(r.rental_id) > 3;', 'explanation': 'This query joins the customer, rental, inventory, and film tables to link customers to the films they have rented. It then groups the results by customer and film and counts the number of rentals for each customer-film combination. Finally, it filters the results to only include customer-film combinations where the rental count is greater than 3.'}\n",
      "--------------------------------------------------\n",
      "Empty DataFrame\n",
      "Columns: [first_name, last_name, title, rental_count]\n",
      "Index: []\n",
      "--------------------------------------------------\n",
      "\n",
      "\n",
      "\n",
      "\n"
     ]
    }
   ],
   "source": [
    "for question, response in answers.items():\n",
    "    print(response)\n",
    "    print('-' * 50)\n",
    "    try:\n",
    "        print(fetch_query_as_df(connection, response['query']).iloc[:5])\n",
    "    except Exception as e:\n",
    "        print(e)\n",
    "    print('-' * 50)\n",
    "    print('\\n' * 3)"
   ]
  },
  {
   "cell_type": "markdown",
   "metadata": {},
   "source": [
    "# Testing Agents\n"
   ]
  },
  {
   "cell_type": "code",
   "execution_count": null,
   "metadata": {},
   "outputs": [],
   "source": [
    "from app.backend.agents import *"
   ]
  },
  {
   "cell_type": "code",
   "execution_count": 2,
   "metadata": {},
   "outputs": [],
   "source": [
    "easy_question = \"Find all actors who have appeared in more than 10 films.\"\n",
    "hard_question = \"List all actors who have appeared in at least one film in each category.\""
   ]
  },
  {
   "cell_type": "code",
   "execution_count": 3,
   "metadata": {},
   "outputs": [
    {
     "name": "stdout",
     "output_type": "stream",
     "text": [
      "{'question': 'List all actors who have appeared in at least one film in each category.', 'rewritten': 'Find the first name and last name of all actors who have acted in at least one film in every category present in the film_category table. For each actor, ensure that for every category_id in the film_category table, there exists a film_id that the actor has acted in, as recorded in the film_actor table.'}\n"
     ]
    }
   ],
   "source": [
    "rewriter = RewriterAgent()\n",
    "question = rewriter.run({'question' : hard_question})\n",
    "print(rewriter.get_dictionary(question))"
   ]
  },
  {
   "cell_type": "code",
   "execution_count": 4,
   "metadata": {},
   "outputs": [
    {
     "name": "stdout",
     "output_type": "stream",
     "text": [
      "{\n",
      "  \"question\": \"List all actors who have appeared in at least one film in each category.\",\n",
      "  \"rewritten\": \"Find the first name and last name of all actors who have acted in at least one film in every category present in the film_category table. For each actor, ensure that for every category_id in the film_category table, there exists a film_id that the actor has acted in, as recorded in the film_actor table.\",\n",
      "  \"query\": \"SELECT\\n  a.first_name,\\n  a.last_name\\nFROM actor AS a\\nWHERE NOT EXISTS(\\n  SELECT\\n    c.category_id\\n  FROM category AS c\\n  WHERE NOT EXISTS(\\n    SELECT\\n      1\\n    FROM film_actor AS fa\\n    JOIN film_category AS fc\\n      ON fa.film_id = fc.film_id\\n    WHERE\\n      fa.actor_id = a.actor_id AND fc.category_id = c.category_id\\n  )\\n);\",\n",
      "  \"explanation\": \"The query identifies actors who have appeared in at least one film in each category. It uses a double negative logic with nested NOT EXISTS clauses. The outer NOT EXISTS checks if there is any category for which the actor has not appeared in any film. The inner NOT EXISTS checks if there is a film for the current actor in the current category. If the outer NOT EXISTS returns false, it means that for every category, the actor has appeared in at least one film, and the actor's first name and last name are returned.\"\n",
      "}\n"
     ]
    }
   ],
   "source": [
    "generator = GeneratorAgent()\n",
    "generator_response = generator.run(rewriter.get_dictionary(question))\n",
    "print(generator_response)"
   ]
  },
  {
   "cell_type": "code",
   "execution_count": 5,
   "metadata": {},
   "outputs": [
    {
     "name": "stdout",
     "output_type": "stream",
     "text": [
      "{\n",
      "  \"question\": \"List all actors who have appeared in at least one film in each category.\",\n",
      "  \"rewritten\": \"Find the first name and last name of all actors who have acted in at least one film in every category present in the film_category table. For each actor, ensure that for every category_id in the film_category table, there exists a film_id that the actor has acted in, as recorded in the film_actor table.\",\n",
      "  \"query\": \"SELECT\\n  a.first_name,\\n  a.last_name\\nFROM actor AS a\\nWHERE NOT EXISTS(\\n  SELECT\\n    c.category_id\\n  FROM category AS c\\n  WHERE NOT EXISTS(\\n    SELECT\\n      1\\n    FROM film_actor AS fa\\n    JOIN film_category AS fc\\n      ON fa.film_id = fc.film_id\\n    WHERE\\n      fa.actor_id = a.actor_id AND fc.category_id = c.category_id\\n  )\\n);\",\n",
      "  \"explanation\": \"The generated query is correct and efficient. It uses a double negative with `NOT EXISTS` to find actors who have appeared in at least one film in every category. The outer `NOT EXISTS` checks if there is any category for which the actor has not appeared in any film. The inner `NOT EXISTS` checks if there is a film for the current actor in the current category. If the outer `NOT EXISTS` returns false, it means that for every category, the actor has appeared in at least one film, and the actor's first name and last name are returned.\"\n",
      "}\n"
     ]
    }
   ],
   "source": [
    "validator = ValidatorAgent()\n",
    "validator_response = validated = validator.run(generator.get_dictionary(generator_response))\n",
    "print(validator_response)"
   ]
  },
  {
   "cell_type": "markdown",
   "metadata": {},
   "source": [
    "## Running Query"
   ]
  },
  {
   "cell_type": "code",
   "execution_count": 7,
   "metadata": {},
   "outputs": [],
   "source": [
    "db = Database()"
   ]
  },
  {
   "cell_type": "code",
   "execution_count": 8,
   "metadata": {},
   "outputs": [
    {
     "data": {
      "text/html": [
       "<div>\n",
       "<style scoped>\n",
       "    .dataframe tbody tr th:only-of-type {\n",
       "        vertical-align: middle;\n",
       "    }\n",
       "\n",
       "    .dataframe tbody tr th {\n",
       "        vertical-align: top;\n",
       "    }\n",
       "\n",
       "    .dataframe thead th {\n",
       "        text-align: right;\n",
       "    }\n",
       "</style>\n",
       "<table border=\"1\" class=\"dataframe\">\n",
       "  <thead>\n",
       "    <tr style=\"text-align: right;\">\n",
       "      <th></th>\n",
       "      <th>first_name</th>\n",
       "      <th>last_name</th>\n",
       "    </tr>\n",
       "  </thead>\n",
       "  <tbody>\n",
       "    <tr>\n",
       "      <th>0</th>\n",
       "      <td>ED</td>\n",
       "      <td>CHASE</td>\n",
       "    </tr>\n",
       "    <tr>\n",
       "      <th>1</th>\n",
       "      <td>JOHNNY</td>\n",
       "      <td>LOLLOBRIGIDA</td>\n",
       "    </tr>\n",
       "    <tr>\n",
       "      <th>2</th>\n",
       "      <td>GRACE</td>\n",
       "      <td>MOSTEL</td>\n",
       "    </tr>\n",
       "    <tr>\n",
       "      <th>3</th>\n",
       "      <td>MATTHEW</td>\n",
       "      <td>JOHANSSON</td>\n",
       "    </tr>\n",
       "    <tr>\n",
       "      <th>4</th>\n",
       "      <td>JOE</td>\n",
       "      <td>SWANK</td>\n",
       "    </tr>\n",
       "    <tr>\n",
       "      <th>...</th>\n",
       "      <td>...</td>\n",
       "      <td>...</td>\n",
       "    </tr>\n",
       "    <tr>\n",
       "      <th>154</th>\n",
       "      <td>MERYL</td>\n",
       "      <td>ALLEN</td>\n",
       "    </tr>\n",
       "    <tr>\n",
       "      <th>155</th>\n",
       "      <td>JAYNE</td>\n",
       "      <td>SILVERSTONE</td>\n",
       "    </tr>\n",
       "    <tr>\n",
       "      <th>156</th>\n",
       "      <td>BELA</td>\n",
       "      <td>WALKEN</td>\n",
       "    </tr>\n",
       "    <tr>\n",
       "      <th>157</th>\n",
       "      <td>REESE</td>\n",
       "      <td>WEST</td>\n",
       "    </tr>\n",
       "    <tr>\n",
       "      <th>158</th>\n",
       "      <td>MARY</td>\n",
       "      <td>KEITEL</td>\n",
       "    </tr>\n",
       "  </tbody>\n",
       "</table>\n",
       "<p>159 rows × 2 columns</p>\n",
       "</div>"
      ],
      "text/plain": [
       "    first_name     last_name\n",
       "0           ED         CHASE\n",
       "1       JOHNNY  LOLLOBRIGIDA\n",
       "2        GRACE        MOSTEL\n",
       "3      MATTHEW     JOHANSSON\n",
       "4          JOE         SWANK\n",
       "..         ...           ...\n",
       "154      MERYL         ALLEN\n",
       "155      JAYNE   SILVERSTONE\n",
       "156       BELA        WALKEN\n",
       "157      REESE          WEST\n",
       "158       MARY        KEITEL\n",
       "\n",
       "[159 rows x 2 columns]"
      ]
     },
     "execution_count": 8,
     "metadata": {},
     "output_type": "execute_result"
    }
   ],
   "source": [
    "df = db.fetch_query(validator.get_dictionary(validator_response)['query'])\n",
    "df"
   ]
  }
 ],
 "metadata": {
  "kernelspec": {
   "display_name": "env",
   "language": "python",
   "name": "python3"
  },
  "language_info": {
   "codemirror_mode": {
    "name": "ipython",
    "version": 3
   },
   "file_extension": ".py",
   "mimetype": "text/x-python",
   "name": "python",
   "nbconvert_exporter": "python",
   "pygments_lexer": "ipython3",
   "version": "3.13.1"
  }
 },
 "nbformat": 4,
 "nbformat_minor": 2
}
