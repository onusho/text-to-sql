{
 "cells": [
  {
   "cell_type": "code",
   "execution_count": 11,
   "metadata": {},
   "outputs": [],
   "source": [
    "# !pip install flask"
   ]
  },
  {
   "cell_type": "code",
   "execution_count": 13,
   "metadata": {},
   "outputs": [],
   "source": [
    "from backend.database import Database\n",
    "from backend.agents import RewriterAgent, GeneratorAgent, ValidatorAgent\n",
    "import pandas as pd"
   ]
  },
  {
   "cell_type": "code",
   "execution_count": 2,
   "metadata": {},
   "outputs": [
    {
     "data": {
      "text/plain": [
       "True"
      ]
     },
     "execution_count": 2,
     "metadata": {},
     "output_type": "execute_result"
    }
   ],
   "source": [
    "database = Database()\n",
    "rewriter = RewriterAgent()\n",
    "generator = GeneratorAgent()\n",
    "validator = ValidatorAgent()\n",
    "rewriter.client is generator.client is validator.client"
   ]
  },
  {
   "cell_type": "code",
   "execution_count": null,
   "metadata": {},
   "outputs": [
    {
     "name": "stdout",
     "output_type": "stream",
     "text": [
      "What do you want from the database?\n"
     ]
    }
   ],
   "source": [
    "valid = False\n",
    "rewriter_reponse = None\n",
    "user_question = \"\"\n",
    "while not valid:\n",
    "    if rewriter_reponse is not None:\n",
    "        print(rewriter_reponse['clarification'])\n",
    "    else:\n",
    "        print(\"What do you want from the database?\")\n",
    "    new_question = input(\"Question:\")\n",
    "    user_question += new_question + \"\\n\"\n",
    "    \n",
    "    rewriter_reponse = rewriter.run({'question' : user_question})\n",
    "    valid = int(rewriter_reponse['valid'])\n",
    "rewriter_reponse"
   ]
  },
  {
   "cell_type": "code",
   "execution_count": 6,
   "metadata": {},
   "outputs": [
    {
     "data": {
      "text/plain": [
       "{'question': 'How many actors are there in the actor table?',\n",
       " 'query': 'SELECT count(*) FROM actor;',\n",
       " 'explanation': 'The question asks for the total number of actors in the actor table. The count(*) function is used to count all rows in the table, which corresponds to the number of actors.'}"
      ]
     },
     "execution_count": 6,
     "metadata": {},
     "output_type": "execute_result"
    }
   ],
   "source": [
    "generator_response = generator.run(rewriter_reponse)\n",
    "generator_response"
   ]
  },
  {
   "cell_type": "code",
   "execution_count": 8,
   "metadata": {},
   "outputs": [
    {
     "data": {
      "text/plain": [
       "{'question': 'How many actors are there in the actor table?',\n",
       " 'query': 'SELECT count(*) FROM actor;',\n",
       " 'explanation': \"The query is syntactically correct and logically sound. It directly addresses the user's question by counting all rows in the 'actor' table, which represents the total number of actors. There are no apparent performance issues or edge cases to consider.\"}"
      ]
     },
     "execution_count": 8,
     "metadata": {},
     "output_type": "execute_result"
    }
   ],
   "source": [
    "validator_response = validator.run(generator_response)\n",
    "validator_response"
   ]
  },
  {
   "cell_type": "code",
   "execution_count": 9,
   "metadata": {},
   "outputs": [
    {
     "data": {
      "text/html": [
       "<div>\n",
       "<style scoped>\n",
       "    .dataframe tbody tr th:only-of-type {\n",
       "        vertical-align: middle;\n",
       "    }\n",
       "\n",
       "    .dataframe tbody tr th {\n",
       "        vertical-align: top;\n",
       "    }\n",
       "\n",
       "    .dataframe thead th {\n",
       "        text-align: right;\n",
       "    }\n",
       "</style>\n",
       "<table border=\"1\" class=\"dataframe\">\n",
       "  <thead>\n",
       "    <tr style=\"text-align: right;\">\n",
       "      <th></th>\n",
       "      <th>count</th>\n",
       "    </tr>\n",
       "  </thead>\n",
       "  <tbody>\n",
       "    <tr>\n",
       "      <th>0</th>\n",
       "      <td>200</td>\n",
       "    </tr>\n",
       "  </tbody>\n",
       "</table>\n",
       "</div>"
      ],
      "text/plain": [
       "   count\n",
       "0    200"
      ]
     },
     "execution_count": 9,
     "metadata": {},
     "output_type": "execute_result"
    }
   ],
   "source": [
    "database.get_data(validator_response['query'])"
   ]
  },
  {
   "cell_type": "code",
   "execution_count": null,
   "metadata": {},
   "outputs": [],
   "source": []
  }
 ],
 "metadata": {
  "kernelspec": {
   "display_name": "env",
   "language": "python",
   "name": "python3"
  },
  "language_info": {
   "codemirror_mode": {
    "name": "ipython",
    "version": 3
   },
   "file_extension": ".py",
   "mimetype": "text/x-python",
   "name": "python",
   "nbconvert_exporter": "python",
   "pygments_lexer": "ipython3",
   "version": "3.13.1"
  }
 },
 "nbformat": 4,
 "nbformat_minor": 2
}
