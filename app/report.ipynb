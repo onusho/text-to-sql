{
 "cells": [
  {
   "cell_type": "code",
   "execution_count": null,
   "metadata": {},
   "outputs": [],
   "source": [
    "from backend.database import Database\n",
    "from backend.agents import RewriterAgent, GeneratorAgent, ValidatorAgent\n",
    "import pandas as pd\n",
    "from time import sleep"
   ]
  },
  {
   "cell_type": "code",
   "execution_count": 3,
   "metadata": {},
   "outputs": [],
   "source": [
    "database = Database()\n",
    "rewriter = RewriterAgent()\n",
    "generator = GeneratorAgent()\n",
    "validator = ValidatorAgent()"
   ]
  },
  {
   "cell_type": "code",
   "execution_count": 6,
   "metadata": {},
   "outputs": [
    {
     "data": {
      "text/html": [
       "<div>\n",
       "<style scoped>\n",
       "    .dataframe tbody tr th:only-of-type {\n",
       "        vertical-align: middle;\n",
       "    }\n",
       "\n",
       "    .dataframe tbody tr th {\n",
       "        vertical-align: top;\n",
       "    }\n",
       "\n",
       "    .dataframe thead th {\n",
       "        text-align: right;\n",
       "    }\n",
       "</style>\n",
       "<table border=\"1\" class=\"dataframe\">\n",
       "  <thead>\n",
       "    <tr style=\"text-align: right;\">\n",
       "      <th></th>\n",
       "      <th>question</th>\n",
       "      <th>difficulty</th>\n",
       "    </tr>\n",
       "  </thead>\n",
       "  <tbody>\n",
       "    <tr>\n",
       "      <th>0</th>\n",
       "      <td>List all actors' first and last names.</td>\n",
       "      <td>Easy</td>\n",
       "    </tr>\n",
       "    <tr>\n",
       "      <th>1</th>\n",
       "      <td>Show the titles of all films in the database.</td>\n",
       "      <td>Easy</td>\n",
       "    </tr>\n",
       "    <tr>\n",
       "      <th>2</th>\n",
       "      <td>Get the names of all cities.</td>\n",
       "      <td>Easy</td>\n",
       "    </tr>\n",
       "    <tr>\n",
       "      <th>3</th>\n",
       "      <td>List all categories available for films.</td>\n",
       "      <td>Easy</td>\n",
       "    </tr>\n",
       "    <tr>\n",
       "      <th>4</th>\n",
       "      <td>Show the first name and last name of all custo...</td>\n",
       "      <td>Easy</td>\n",
       "    </tr>\n",
       "  </tbody>\n",
       "</table>\n",
       "</div>"
      ],
      "text/plain": [
       "                                            question difficulty\n",
       "0             List all actors' first and last names.       Easy\n",
       "1      Show the titles of all films in the database.       Easy\n",
       "2                       Get the names of all cities.       Easy\n",
       "3           List all categories available for films.       Easy\n",
       "4  Show the first name and last name of all custo...       Easy"
      ]
     },
     "execution_count": 6,
     "metadata": {},
     "output_type": "execute_result"
    }
   ],
   "source": [
    "eval_df = pd.read_csv(r'..\\evaluation.csv')\n",
    "eval_df.head()"
   ]
  },
  {
   "cell_type": "code",
   "execution_count": null,
   "metadata": {},
   "outputs": [],
   "source": [
    "generated_queries = []\n",
    "explanations = []\n",
    "retrieved_datasets = []"
   ]
  },
  {
   "cell_type": "code",
   "execution_count": null,
   "metadata": {},
   "outputs": [],
   "source": [
    "for question in eval_df['question']:\n",
    "    try:\n",
    "        rewriter_response = rewriter.run({'question': question})\n",
    "        sleep(0.1)\n",
    "        generator_response = generator.run(rewriter_response)\n",
    "        sleep(0.1)\n",
    "        validator_response = validator.run(generator_response)\n",
    "\n",
    "        sql_query = validator_response['query']\n",
    "        explanation = validator_response['explanation']\n",
    "        if sql_query is not None:\n",
    "            result_df = database.get_data(sql_query)\n",
    "        else:\n",
    "            result_df = None\n",
    "\n",
    "        generated_queries.append(sql_query)\n",
    "        explanations.append(explanation)\n",
    "        try: \n",
    "            retrieved_datasets.append(result_df.to_dict(orient='records'))  \n",
    "        except: \n",
    "            retrieved_datasets.append(\"Couldn't Retrive\")  \n",
    "            \n",
    "    except Exception as e:\n",
    "        generated_queries.append(None)\n",
    "        explanations.append(str(e))\n",
    "        retrieved_datasets.append(None)\n"
   ]
  },
  {
   "cell_type": "code",
   "execution_count": null,
   "metadata": {},
   "outputs": [],
   "source": [
    "\n",
    "eval_df['generated_query'] = generated_queries\n",
    "eval_df['explanation'] = explanations\n",
    "eval_df['retrieved_dataset'] = retrieved_datasets\n",
    "\n",
    "eval_df.to_csv('evaluation_report.csv', index=False)\n",
    "\n"
   ]
  }
 ],
 "metadata": {
  "kernelspec": {
   "display_name": "env",
   "language": "python",
   "name": "python3"
  },
  "language_info": {
   "codemirror_mode": {
    "name": "ipython",
    "version": 3
   },
   "file_extension": ".py",
   "mimetype": "text/x-python",
   "name": "python",
   "nbconvert_exporter": "python",
   "pygments_lexer": "ipython3",
   "version": "3.13.1"
  }
 },
 "nbformat": 4,
 "nbformat_minor": 2
}
